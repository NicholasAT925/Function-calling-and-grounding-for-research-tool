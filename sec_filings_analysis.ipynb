{
 "cells": [
  {
   "cell_type": "markdown",
   "id": "65bc6cb2-9eae-4619-b2dc-5c01e685b227",
   "metadata": {},
   "source": [
    "# Import the necessary packages"
   ]
  },
  {
   "cell_type": "code",
   "execution_count": 1,
   "id": "37aa6973-993c-4888-8763-3418dc8b5d7a",
   "metadata": {
    "tags": []
   },
   "outputs": [],
   "source": [
    "import os\n",
    "import re\n",
    "import requests\n",
    "from datetime import datetime\n",
    "\n",
    "from bs4 import BeautifulSoup, NavigableString\n",
    "\n",
    "import vertexai\n",
    "from vertexai.generative_models import (\n",
    "    GenerativeModel,\n",
    "    GenerationConfig,\n",
    "    Tool,\n",
    "    FunctionDeclaration,\n",
    "    Part)"
   ]
  },
  {
   "cell_type": "markdown",
   "id": "2acbd222-f8fc-49e1-af0b-b0c8b7809c49",
   "metadata": {},
   "source": [
    "Next, run the following code to initialize Vertex AI"
   ]
  },
  {
   "cell_type": "code",
   "execution_count": 2,
   "id": "4b4057c5-40af-41fc-8182-5d349e063bc2",
   "metadata": {
    "tags": []
   },
   "outputs": [],
   "source": [
    "project_id = !gcloud config get project\n",
    "project_id = project_id[0]\n",
    "\n",
    "vertexai.init(project=project_id, location=\"us-central1\")"
   ]
  },
  {
   "cell_type": "markdown",
   "id": "877394d1-42b2-4a08-a4ee-70fb2590fa31",
   "metadata": {},
   "source": [
    "# Download SEC filings and parse text to analyze"
   ]
  },
  {
   "cell_type": "markdown",
   "id": "b61057c8-6bcf-4238-a2ba-018c1a536570",
   "metadata": {},
   "source": [
    "In this section, you will tackle the limitations of processing massive SEC filings with Gemini. You will explore utilizing the document structure to efficiently extract specific sections and confirm their suitability for analysis within Gemini's token limit.\n",
    "\n",
    "Run the following code in your notebook and update the values of `PARTNER_COMPANY` and `PARTNER_WEBSITE` to prepare a header to call **EDGAR** on behalf of your company."
   ]
  },
  {
   "cell_type": "code",
   "execution_count": 3,
   "id": "e31cd606-9eba-47b3-88a5-6ff687634528",
   "metadata": {
    "tags": []
   },
   "outputs": [],
   "source": [
    "# IMPORTANT! You must set these variables with REAL VALUES for the correct headers to be in place to access the API\n",
    "PARTNER_COMPANY = \"YOUR COMPANY'S NAME\"\n",
    "PARTNER_WEBSITE = \"https://your-companys-website\"\n",
    "\n",
    "headers = {\"User-Agent\": f\"{PARTNER_COMPANY} +{PARTNER_WEBSITE}\"}"
   ]
  },
  {
   "cell_type": "markdown",
   "id": "a1dae951-b0b2-4bf3-9fc1-b8fa9316f52e",
   "metadata": {},
   "source": [
    "Use the following code to name a local directory for storing filings and defining the following two functions:\n",
    "\n",
    "- download_single_filing - It downloads a single SEC filing identified by a company's Central Index Key (CIK), the form type(an annual 10-K or quarterly 10-Q) and the date of filing.\n",
    "- download_range_of_filings - It queries all the filings of a company to find filings within a date range of a particular form type and download them."
   ]
  },
  {
   "cell_type": "code",
   "execution_count": 4,
   "id": "17d38552-c5fa-4319-ad66-d6139a858723",
   "metadata": {
    "tags": []
   },
   "outputs": [],
   "source": [
    "BASE_DIR = \"filings\" # Directory for storing raw filings\n",
    "\n",
    "def download_single_filing(url, cik, form, date, file_extension):\n",
    "    \"\"\"\n",
    "    This function downloads and saves a SEC filing from a specified URL.\n",
    "\n",
    "    Args:\n",
    "        cik (str): Central Index Key (CIK) for the company.\n",
    "        form (str): The type of SEC filing (e.g., 10-K, 10-Q).\n",
    "        date (str): The filing date in YYYY-MM-DD format.\n",
    "        file_extension (str): File extension for saved file (usually 'txt' or 'zip').\n",
    "    \"\"\"\n",
    "\n",
    "    # Define request headers to simulate a browser visit\n",
    "    response = requests.get(url, headers=headers)\n",
    "\n",
    "    if response.status_code == 200:\n",
    "\n",
    "        # Make the directory accord\n",
    "        dir_name = f\"{BASE_DIR}/{cik}\"\n",
    "        os.makedirs(dir_name, exist_ok=True)\n",
    "        file_path = f\"{dir_name}/{form}_{date}.{file_extension}\"\n",
    "\n",
    "        with open(file_path, 'wb') as file:\n",
    "            file.write(response.content)\n",
    "\n",
    "        print(f\"Downloaded {form} for CIK {cik} on {date} to {file_path}\")\n",
    "\n",
    "        return file_path\n",
    "\n",
    "    else:\n",
    "        print(f\"Failed to download {form} for CIK {cik} on {date}. Status code: {response.status_code}\")\n",
    "\n",
    "        return None\n",
    "\n",
    "def download_range_of_filings(cik, starting_year_and_quarter,\n",
    "                            ending_year_and_quarter, include_10q = False):\n",
    "    \"\"\"\n",
    "    Download filings from EDGAR for a given CIK and clean them up.\n",
    "\n",
    "    Args:\n",
    "        cik (str): Central Index Key (CIK)\n",
    "        starting_year_and_quarter (str): Specified in the format \"2023 Q1\"\n",
    "        ending_year_and_quarter (str): Specified in the format \"2024 Q4\"\n",
    "        include_10q (bool): Whether to include 10-Qs in addition to 10-Ks\n",
    "    \"\"\"\n",
    "\n",
    "    url = f\"https://data.sec.gov/submissions/CIK{cik}.json\"\n",
    "    headers = {'User-Agent': 'Google Partner Learning Services Demo +https://partners.cloud.google.com/learn'}\n",
    "    response = requests.get(url, headers=headers)\n",
    "\n",
    "    forms_to_download = {\"10-K\", \"10-Q\"} if include_10q else {\"10-K\"}\n",
    "\n",
    "    start_year, start_quarter = starting_year_and_quarter.split()\n",
    "    end_year, end_quarter = ending_year_and_quarter.split()\n",
    "\n",
    "    if response.status_code == 200:\n",
    "        data = response.json()\n",
    "\n",
    "        filing_paths = []\n",
    "        for filing_date, form, accession_number in zip(data['filings']['recent']['filingDate'], data['filings']['recent']['form'], data['filings']['recent']['accessionNumber']):\n",
    "            if (form in forms_to_download) and (int(start_year) <= datetime.strptime(filing_date, '%Y-%m-%d').year <= int(end_year)):\n",
    "                file_path = download_single_filing(\n",
    "                    f\"https://www.sec.gov/Archives/edgar/data/{cik}/{accession_number.replace('-', '')}/{accession_number}.txt\",\n",
    "                    cik, form, filing_date, 'htm'\n",
    "                )\n",
    "                filing_paths.append (file_path)\n",
    "        return filing_paths\n",
    "    else:\n",
    "        print(\"Error from call.\")\n",
    "        print(response)"
   ]
  },
  {
   "cell_type": "markdown",
   "id": "82128a66-65d5-4a48-beef-79a2eba1e592",
   "metadata": {},
   "source": [
    "Next, test the functions using the **CIK of Alphabet**, Google's parent company, which is 0001652044."
   ]
  },
  {
   "cell_type": "code",
   "execution_count": 5,
   "id": "cf3c7fff-d6f7-46f5-9f6e-95295d61750c",
   "metadata": {
    "tags": []
   },
   "outputs": [
    {
     "name": "stdout",
     "output_type": "stream",
     "text": [
      "Downloaded 10-K for CIK 0001652044 on 2024-01-31 to filings/0001652044/10-K_2024-01-31.htm\n"
     ]
    },
    {
     "data": {
      "text/plain": [
       "['filings/0001652044/10-K_2024-01-31.htm']"
      ]
     },
     "execution_count": 5,
     "metadata": {},
     "output_type": "execute_result"
    }
   ],
   "source": [
    "alphabet_cik = \"0001652044\"\n",
    "\n",
    "download_range_of_filings(cik=alphabet_cik,\n",
    "                starting_year_and_quarter=\"2024 Q1\",\n",
    "                ending_year_and_quarter=\"2024 Q4\")"
   ]
  },
  {
   "cell_type": "markdown",
   "id": "46382b0a-0310-4f88-ae19-5bc51cc3217c",
   "metadata": {},
   "source": [
    "Open the directory filings/0001652044, right click on the .htm file and select Open in New Browser Tab to preview the document. Notice that the table of contents of these documents are highly structured and all the 10-K filings will follow the same structure"
   ]
  },
  {
   "cell_type": "markdown",
   "id": "64035943-a2a9-4fbb-8ed7-7ee405d83201",
   "metadata": {},
   "source": [
    "Instantiate a GenerativeModel using Gemini Pro version gemini-2.0-flash."
   ]
  },
  {
   "cell_type": "code",
   "execution_count": 6,
   "id": "966660a0-003f-4353-898c-552ea274981c",
   "metadata": {
    "tags": []
   },
   "outputs": [],
   "source": [
    "model = GenerativeModel(\"gemini-2.0-flash\",\n",
    "                        generation_config=GenerationConfig(temperature=0),\n",
    "                       )"
   ]
  },
  {
   "cell_type": "markdown",
   "id": "a92c90a3-d016-426b-b22b-0bfef570ad43",
   "metadata": {},
   "source": [
    "To determine if you can send the entire document to **Gemini** to analyze at once, use your GenerativeModel's count_tokens method to see the number of tokens in the raw file."
   ]
  },
  {
   "cell_type": "code",
   "execution_count": 7,
   "id": "b22025b8-956d-4782-9e6e-0b1e1a4f8586",
   "metadata": {
    "tags": []
   },
   "outputs": [
    {
     "name": "stdout",
     "output_type": "stream",
     "text": [
      "total_tokens: 5798629\n",
      "total_billable_characters: 13029439\n",
      "prompt_tokens_details {\n",
      "  modality: TEXT\n",
      "  token_count: 5798629\n",
      "}\n",
      "\n"
     ]
    }
   ],
   "source": [
    "downloaded_path = \"filings/0001652044/10-K_2024-01-31.htm\"\n",
    "\n",
    "with open(downloaded_path, 'r') as f:\n",
    "    filing_text = f.read()\n",
    "\n",
    "response = model.count_tokens(filing_text)\n",
    "print(response)    "
   ]
  },
  {
   "cell_type": "markdown",
   "id": "40600743-d622-4911-a708-5124aa31ea68",
   "metadata": {},
   "source": [
    "With a token count of 5,798,629, you can see that even with Gemini 2.0 Flash's large token window of 1,048,576 tokens, these documents are too long to read in a single pass.\n",
    "\n",
    "You could implement a Retrieval-Augmented Generation (RAG) framework to query small chunks of these documents, but here you are looking for a broader understanding of sections as a whole rather than smaller chunks consisting of a few facts in the document. Here, you don't mind passing a large number of tokens to Gemini, as this will be an internal tool used by a relatively small number of analysts, not a public tool handling thousands of queries.\n",
    "\n",
    "SEC filings are required to adhere to a strict structure with named sections. You can use this standard structure of the documents to read the text between one section header and the next.\n",
    "\n",
    "Run the following code in your notebook to define a list of the sections(items) and functions to help retrieve all of the text from one item header until the next item header."
   ]
  },
  {
   "cell_type": "code",
   "execution_count": 8,
   "id": "f6ec403f-92ff-49a3-bed5-2ff11bfeb265",
   "metadata": {
    "tags": []
   },
   "outputs": [],
   "source": [
    "items = ['Business',\n",
    "        'Risk Factors',\n",
    "        'Unresolved Staff Comments',\n",
    "        'Properties', 'Legal Proceedings',\n",
    "        'Mine Safety Disclosures',\n",
    "        'Market for Registrant’s Common Equity, Related Stockholder Matters and Issuer Purchases of Equity Securities',\n",
    "        'Management’s Discussion and Analysis of Financial Condition and Results of Operations',\n",
    "        'Quantitative and Qualitative Disclosures About Market Risk',\n",
    "        'Financial Statements and Supplementary Data',\n",
    "        'Changes in and Disagreements with Accountants on Accounting and Financial Disclosure',\n",
    "        'Controls and Procedures',\n",
    "        'Other Information',\n",
    "        'Disclosure Regarding Foreign Jurisdictions that Prevent Inspections',\n",
    "        'Directors, Executive Officers, and Corporate Governance',\n",
    "        'Executive Compensation',\n",
    "        'Security Ownership of Certain Beneficial Owners and Management and Related Stockholder Matters',\n",
    "        'Certain Relationships and Related Transactions, and Director Independence',\n",
    "        'Principal Accountant Fees and Services',\n",
    "        'Exhibit and Financial Statement Schedules',\n",
    "        'Form 10-K Summary']\n",
    "\n",
    "def find_div_id(soup, item_name: str):\n",
    "    found_tag = soup.find('a', string=item_name)\n",
    "    if found_tag:\n",
    "        return found_tag[\"href\"].strip('#')\n",
    "    else:\n",
    "        print(f\"Couldn't find a matching tag for: {item_name}\")\n",
    "        return None\n",
    "\n",
    "def get_text_between(soup, cur_name, end_name):\n",
    "    cur = soup.find('div', id=find_div_id(soup, cur_name)).next_sibling\n",
    "    end = soup.find('div', id=find_div_id(soup, end_name))\n",
    "    while cur and cur != end:\n",
    "        if isinstance(cur, NavigableString):\n",
    "            text = cur.strip()\n",
    "            if len(text):\n",
    "                yield text\n",
    "        cur = cur.next_element\n",
    "\n",
    "def get_items_from_filings(item_names, filing_paths):\n",
    "\n",
    "    print(\"Items of interest: \" + \", \".join(item_names) + \"\\n\")\n",
    "    item_strings = {item: f\"<{item}>\\n\" for item in item_names}\n",
    "\n",
    "    for path in filing_paths:\n",
    "        with open(path, 'r', encoding='utf-8') as file:\n",
    "            content = file.read()\n",
    "\n",
    "        soup = BeautifulSoup(content, 'html.parser')\n",
    "\n",
    "        for item in item_names:\n",
    "            item_index = items.index(item)\n",
    "            item_index = item_index if item_index < len(items) - 1 else 0\n",
    "            item_output = ' '.join(text for text in get_text_between(soup, item, items[item_index + 1]))\n",
    "            item_strings[item] += f\"From {os.path.basename(path)}\" + \"\\n\" + item_output + \"\\n\"\n",
    "\n",
    "    return \"\\n\\n\".join(item_strings.values())    "
   ]
  },
  {
   "cell_type": "markdown",
   "id": "6f64af70-9933-49d3-9310-ac9a187ece57",
   "metadata": {},
   "source": [
    "Next, test the above functions by running the following command and save your notebook."
   ]
  },
  {
   "cell_type": "code",
   "execution_count": 9,
   "id": "5f12aeb5-8305-4498-88bc-3004d3c2306f",
   "metadata": {
    "tags": []
   },
   "outputs": [
    {
     "name": "stdout",
     "output_type": "stream",
     "text": [
      "Items of interest: Management’s Discussion and Analysis of Financial Condition and Results of Operations\n",
      "\n",
      "<Management’s Discussion and Analysis of Financial Condition and Results of Operations>\n",
      "From 10-K_2024-01-31.htm\n",
      "Table of Contents Alphabet Inc. ITEM 7. MANAGEMENT’S DISCUSSION AND ANALYSIS OF FINANCIAL CONDITION AND RESULTS OF OPERATIONS Please read the following discussion and analysis of our financial condition and results of operations together with “Note about Forward-Looking Statements,” Part I, Item 1 \"Business,\" Part I, Item 1A \"Risk Factors,\" and our consolidated financial statements and related notes included under Item 8 of this Annual Report on Form 10-K. The following section generally discusses 2023 results compared to 2022 results. Discussion of 2022 results compared to 2021 results to the extent not included in this report can be found in Item 7 of our 2022 Annual Report on Form 10-K. Understanding Alphabet’s Financial Results Alphabet is a collection of businesses — the largest of which is Google. We report Google in two segments, Google Services and Google Cloud; we also report all non-Google businesses collectively as Other Bets. For additional information on our segments, see Part I, Item 1 Business and Note 15 of the Notes to Consolidated Financial Statements included in Item 8 of this Annual Report on Form 10-K. Trends in Our Business and Financial Effect The following long-term trends have contributed to the results of our consolidated operations, and we anticipate that they will continue to affect our future results: • Users' behaviors and advertising continue to shift online as the digital economy evolves. The continuing evolution of the online world has contributed to the growth of our business and our revenues since inception. We expect that this evolution will continue to benefit our business and our revenues, although at a slower pace than we have experienced historically, in particular after the outsized growth in our advertising revenues during the COVID-19 pandemic. In addition, we face increasing competition for user engagement and a...\n"
     ]
    }
   ],
   "source": [
    "item_names = [\"Management’s Discussion and Analysis of Financial Condition and Results of Operations\"]\n",
    "\n",
    "report = get_items_from_filings(item_names, [downloaded_path])\n",
    "\n",
    "# Print the first 2,000 characters as an example.\n",
    "print(report[0:2000] + \"...\")"
   ]
  },
  {
   "cell_type": "markdown",
   "id": "96283fc5-e7e9-4538-8145-6d239ff5d1b6",
   "metadata": {},
   "source": [
    "Count the number of tokens in this section to see if it is under Gemini's token window of 1,048,576 tokens."
   ]
  },
  {
   "cell_type": "code",
   "execution_count": 10,
   "id": "fa8d4361-45b8-426f-afc1-f93018add522",
   "metadata": {
    "tags": []
   },
   "outputs": [
    {
     "name": "stdout",
     "output_type": "stream",
     "text": [
      "total_tokens: 12688\n",
      "total_billable_characters: 50620\n",
      "prompt_tokens_details {\n",
      "  modality: TEXT\n",
      "  token_count: 12688\n",
      "}\n",
      "\n"
     ]
    }
   ],
   "source": [
    "response = model.count_tokens(report)\n",
    "print(response)\n"
   ]
  },
  {
   "cell_type": "markdown",
   "id": "7e862031-504b-4be3-b85b-758fb3bc7afa",
   "metadata": {},
   "source": [
    "# Let Gemini look up companies' CIKs via Google Search"
   ]
  },
  {
   "cell_type": "markdown",
   "id": "4e0f3389-6755-428c-b082-c3a739299531",
   "metadata": {},
   "source": [
    "You were able to download Alphabet's annual report because you were provided its Central Index Key (CIK) number. Gemini already knows some CIKs for large public companies like Alphabet, but for some smaller companies, it may hallucinate and invent inaccurate CIKs. You can instead look up correct numbers by having Gemini use everyone's favorite well-known, public, up-to-date source of information: Google Search.\n",
    "\n",
    "Run the following command to see Gemini provide a CIK from its internal knowledge. The CIK of Summit Therapeutics is actually 0001599298, but without the ability to look it up, Gemini provides some alternative numbers."
   ]
  },
  {
   "cell_type": "code",
   "execution_count": 11,
   "id": "dd142ae7-57d6-48a1-ad5d-87bb76c8b2dd",
   "metadata": {
    "tags": []
   },
   "outputs": [
    {
     "data": {
      "text/plain": [
       "\"Summit Therapeutics Inc.'s CIK (Central Index Key) with the SEC is **0001349558**.\\n\""
      ]
     },
     "execution_count": 11,
     "metadata": {},
     "output_type": "execute_result"
    }
   ],
   "source": [
    "model.generate_content(\"What is Summit Therapeutics' CIK with the SEC?\").text"
   ]
  },
  {
   "cell_type": "markdown",
   "id": "a4f1fcf6-0c05-4e3a-9f7b-baadbf329671",
   "metadata": {},
   "source": [
    "Use [Grounding with Google Search](https://cloud.google.com/vertex-ai/generative-ai/docs/grounding/overview) to provide Gemini with a tool to conduct Google searches."
   ]
  },
  {
   "cell_type": "code",
   "execution_count": 12,
   "id": "06696da5-4723-49c3-9490-aa39fa2eccc6",
   "metadata": {
    "tags": []
   },
   "outputs": [],
   "source": [
    "from google import genai\n",
    "from google.genai.types import Tool, GenerateContentConfig, GoogleSearch, HttpOptions\n",
    "from IPython.display import display, HTML\n",
    "import os\n",
    "\n",
    "project_id = os.environ['GOOGLE_CLOUD_PROJECT'] = 'qwiklabs-gcp-03-f435e0bdc8a5'\n",
    "location = os.environ['GOOGLE_CLOUD_LOCATION'] = 'us-central1'\n",
    "os.environ['GOOGLE_GENAI_USE_VERTEXAI'] = 'True'\n",
    "\n",
    "# Initialize the client, explicitly passing project and location for Vertex AI\n",
    "client = genai.Client(project=project_id, location=location, http_options=HttpOptions(api_version=\"v1\"))\n",
    "model_id = \"gemini-2.0-flash\"\n",
    "\n",
    "# Configure Google Search as a tool for grounding\n",
    "search_tool = Tool(\n",
    "    google_search=GoogleSearch()\n",
    ")\n",
    "\n",
    "# Helper function to lookup a company's SEC CIK\n",
    "def lookup_cik(company_name: str) -> str:\n",
    "    prompt = f\"\"\"\n",
    "Find the Securities and Exchange Commission's Central Index Key (CIK)\n",
    "for {company_name}.\n",
    "Return only the 10-digit integer CIK including leading zeroes.\n",
    "\"\"\"\n",
    "    # Generate content with grounding via Google Search\n",
    "    response = client.models.generate_content(\n",
    "        model=model_id,\n",
    "        contents=prompt,\n",
    "        config=GenerateContentConfig(\n",
    "            tools=[search_tool],\n",
    "            response_modalities=[\"TEXT\"],\n",
    "        )\n",
    "    )\n",
    "\n",
    "    # Concatenate all text parts of the response\n",
    "    cik = \"\".join(part.text for part in response.candidates[0].content.parts).strip()\n",
    "    print(f\"Lookup for CIK of {company_name} resulted in: {cik}\\n\")\n",
    "\n",
    "    # Display the grounding metadata (search suggestions and sources)\n",
    "    if hasattr(response.candidates[0], 'grounding_metadata'):\n",
    "        display(\n",
    "            HTML(\n",
    "                response.candidates[0]\n",
    "                .grounding_metadata.search_entry_point.rendered_content\n",
    "            )\n",
    "        )\n",
    "\n",
    "    return cik"
   ]
  },
  {
   "cell_type": "markdown",
   "id": "f447bd7d-e577-4a2a-bbdc-56c9bffed83b",
   "metadata": {},
   "source": [
    "**Note**: When you use Grounding with Google Search, you are required to display the corresponding Google Search Suggestions which help you understand what Google search was conducted and allow you to investigate the results. The **lookup_cik** function below includes a **display** block that renders the provided HTML in this notebook."
   ]
  },
  {
   "cell_type": "markdown",
   "id": "f2663bcd-6bec-45c8-a439-e62174588c10",
   "metadata": {},
   "source": [
    "Test the function and confirm you see the [Google Search Suggestion](https://cloud.google.com/vertex-ai/generative-ai/docs/grounding/grounding-search-suggestions) results."
   ]
  },
  {
   "cell_type": "code",
   "execution_count": 13,
   "id": "07b76f18-2adf-4f31-826b-6340a9de5208",
   "metadata": {
    "tags": []
   },
   "outputs": [
    {
     "name": "stdout",
     "output_type": "stream",
     "text": [
      "Lookup for CIK of Summit Therapeutics resulted in: The Securities and Exchange Commission's (SEC) Central Index Key (CIK) for Summit Therapeutics is 0001599298.\n",
      "\n"
     ]
    },
    {
     "data": {
      "text/html": [
       "<style>\n",
       ".container {\n",
       "  align-items: center;\n",
       "  border-radius: 8px;\n",
       "  display: flex;\n",
       "  font-family: Google Sans, Roboto, sans-serif;\n",
       "  font-size: 14px;\n",
       "  line-height: 20px;\n",
       "  padding: 8px 12px;\n",
       "}\n",
       ".chip {\n",
       "  display: inline-block;\n",
       "  border: solid 1px;\n",
       "  border-radius: 16px;\n",
       "  min-width: 14px;\n",
       "  padding: 5px 16px;\n",
       "  text-align: center;\n",
       "  user-select: none;\n",
       "  margin: 0 8px;\n",
       "  -webkit-tap-highlight-color: transparent;\n",
       "}\n",
       ".carousel {\n",
       "  overflow: auto;\n",
       "  scrollbar-width: none;\n",
       "  white-space: nowrap;\n",
       "  margin-right: -12px;\n",
       "}\n",
       ".headline {\n",
       "  display: flex;\n",
       "  margin-right: 4px;\n",
       "}\n",
       ".gradient-container {\n",
       "  position: relative;\n",
       "}\n",
       ".gradient {\n",
       "  position: absolute;\n",
       "  transform: translate(3px, -9px);\n",
       "  height: 36px;\n",
       "  width: 9px;\n",
       "}\n",
       "@media (prefers-color-scheme: light) {\n",
       "  .container {\n",
       "    background-color: #fafafa;\n",
       "    box-shadow: 0 0 0 1px #0000000f;\n",
       "  }\n",
       "  .headline-label {\n",
       "    color: #1f1f1f;\n",
       "  }\n",
       "  .chip {\n",
       "    background-color: #ffffff;\n",
       "    border-color: #d2d2d2;\n",
       "    color: #5e5e5e;\n",
       "    text-decoration: none;\n",
       "  }\n",
       "  .chip:hover {\n",
       "    background-color: #f2f2f2;\n",
       "  }\n",
       "  .chip:focus {\n",
       "    background-color: #f2f2f2;\n",
       "  }\n",
       "  .chip:active {\n",
       "    background-color: #d8d8d8;\n",
       "    border-color: #b6b6b6;\n",
       "  }\n",
       "  .logo-dark {\n",
       "    display: none;\n",
       "  }\n",
       "  .gradient {\n",
       "    background: linear-gradient(90deg, #fafafa 15%, #fafafa00 100%);\n",
       "  }\n",
       "}\n",
       "@media (prefers-color-scheme: dark) {\n",
       "  .container {\n",
       "    background-color: #1f1f1f;\n",
       "    box-shadow: 0 0 0 1px #ffffff26;\n",
       "  }\n",
       "  .headline-label {\n",
       "    color: #fff;\n",
       "  }\n",
       "  .chip {\n",
       "    background-color: #2c2c2c;\n",
       "    border-color: #3c4043;\n",
       "    color: #fff;\n",
       "    text-decoration: none;\n",
       "  }\n",
       "  .chip:hover {\n",
       "    background-color: #353536;\n",
       "  }\n",
       "  .chip:focus {\n",
       "    background-color: #353536;\n",
       "  }\n",
       "  .chip:active {\n",
       "    background-color: #464849;\n",
       "    border-color: #53575b;\n",
       "  }\n",
       "  .logo-light {\n",
       "    display: none;\n",
       "  }\n",
       "  .gradient {\n",
       "    background: linear-gradient(90deg, #1f1f1f 15%, #1f1f1f00 100%);\n",
       "  }\n",
       "}\n",
       "</style>\n",
       "<div class=\"container\">\n",
       "  <div class=\"headline\">\n",
       "    <svg class=\"logo-light\" width=\"18\" height=\"18\" viewBox=\"9 9 35 35\" fill=\"none\" xmlns=\"http://www.w3.org/2000/svg\">\n",
       "      <path fill-rule=\"evenodd\" clip-rule=\"evenodd\" d=\"M42.8622 27.0064C42.8622 25.7839 42.7525 24.6084 42.5487 23.4799H26.3109V30.1568H35.5897C35.1821 32.3041 33.9596 34.1222 32.1258 35.3448V39.6864H37.7213C40.9814 36.677 42.8622 32.2571 42.8622 27.0064V27.0064Z\" fill=\"#4285F4\"/>\n",
       "      <path fill-rule=\"evenodd\" clip-rule=\"evenodd\" d=\"M26.3109 43.8555C30.9659 43.8555 34.8687 42.3195 37.7213 39.6863L32.1258 35.3447C30.5898 36.3792 28.6306 37.0061 26.3109 37.0061C21.8282 37.0061 18.0195 33.9811 16.6559 29.906H10.9194V34.3573C13.7563 39.9841 19.5712 43.8555 26.3109 43.8555V43.8555Z\" fill=\"#34A853\"/>\n",
       "      <path fill-rule=\"evenodd\" clip-rule=\"evenodd\" d=\"M16.6559 29.8904C16.3111 28.8559 16.1074 27.7588 16.1074 26.6146C16.1074 25.4704 16.3111 24.3733 16.6559 23.3388V18.8875H10.9194C9.74388 21.2072 9.06992 23.8247 9.06992 26.6146C9.06992 29.4045 9.74388 32.022 10.9194 34.3417L15.3864 30.8621L16.6559 29.8904V29.8904Z\" fill=\"#FBBC05\"/>\n",
       "      <path fill-rule=\"evenodd\" clip-rule=\"evenodd\" d=\"M26.3109 16.2386C28.85 16.2386 31.107 17.1164 32.9095 18.8091L37.8466 13.8719C34.853 11.082 30.9659 9.3736 26.3109 9.3736C19.5712 9.3736 13.7563 13.245 10.9194 18.8875L16.6559 23.3388C18.0195 19.2636 21.8282 16.2386 26.3109 16.2386V16.2386Z\" fill=\"#EA4335\"/>\n",
       "    </svg>\n",
       "    <svg class=\"logo-dark\" width=\"18\" height=\"18\" viewBox=\"0 0 48 48\" xmlns=\"http://www.w3.org/2000/svg\">\n",
       "      <circle cx=\"24\" cy=\"23\" fill=\"#FFF\" r=\"22\"/>\n",
       "      <path d=\"M33.76 34.26c2.75-2.56 4.49-6.37 4.49-11.26 0-.89-.08-1.84-.29-3H24.01v5.99h8.03c-.4 2.02-1.5 3.56-3.07 4.56v.75l3.91 2.97h.88z\" fill=\"#4285F4\"/>\n",
       "      <path d=\"M15.58 25.77A8.845 8.845 0 0 0 24 31.86c1.92 0 3.62-.46 4.97-1.31l4.79 3.71C31.14 36.7 27.65 38 24 38c-5.93 0-11.01-3.4-13.45-8.36l.17-1.01 4.06-2.85h.8z\" fill=\"#34A853\"/>\n",
       "      <path d=\"M15.59 20.21a8.864 8.864 0 0 0 0 5.58l-5.03 3.86c-.98-2-1.53-4.25-1.53-6.64 0-2.39.55-4.64 1.53-6.64l1-.22 3.81 2.98.22 1.08z\" fill=\"#FBBC05\"/>\n",
       "      <path d=\"M24 14.14c2.11 0 4.02.75 5.52 1.98l4.36-4.36C31.22 9.43 27.81 8 24 8c-5.93 0-11.01 3.4-13.45 8.36l5.03 3.85A8.86 8.86 0 0 1 24 14.14z\" fill=\"#EA4335\"/>\n",
       "    </svg>\n",
       "    <div class=\"gradient-container\"><div class=\"gradient\"></div></div>\n",
       "  </div>\n",
       "  <div class=\"carousel\">\n",
       "    <a class=\"chip\" href=\"https://vertexaisearch.cloud.google.com/grounding-api-redirect/AbF9wXEZNF9J4jH-HboIGPlrJvL_px6J0mCT3QRWfZId3QNM6qFyS34xr2gXi7DXNUW-9tdcxtarDiE6K2zTCY_n9Ad30xMLWUiMf5YJQ4JmADPrkVOz14OI5JlVQIgCdMKdNchOsT50d7ldACeaYSVdueWihX03YSEvX73Jrec8bCCOn8mRJm0m4fNOoqmk3rqchw-CUS7H0ybjAiAHgdUiCg==\">Summit Therapeutics CIK SEC</a>\n",
       "    <a class=\"chip\" href=\"https://vertexaisearch.cloud.google.com/grounding-api-redirect/AbF9wXFp35t7RQy-zNp9zpyNBE8aYspLukrA5_hWQsJmkUBpRxnlbIlGYe8CmEODPI5KS4Yq68k3aIcMnseMhhvEJpQ_bmHHcjZQ_Yewg3k59LWd8yPVGUUHRttzgsjr0DQepncqHe1Yts2Bov5E6GofEGtiI4Qs0jYMuQxUcxB0SZOu-e4DZnJihseb7ct6d2AWITNYJ0lk73rbT6q71puVwINDHIs=\">Summit Therapeutics SEC filings</a>\n",
       "  </div>\n",
       "</div>\n"
      ],
      "text/plain": [
       "<IPython.core.display.HTML object>"
      ]
     },
     "metadata": {},
     "output_type": "display_data"
    },
    {
     "data": {
      "text/plain": [
       "\"The Securities and Exchange Commission's (SEC) Central Index Key (CIK) for Summit Therapeutics is 0001599298.\""
      ]
     },
     "execution_count": 13,
     "metadata": {},
     "output_type": "execute_result"
    }
   ],
   "source": [
    "lookup_cik(\"Summit Therapeutics\")"
   ]
  },
  {
   "cell_type": "markdown",
   "id": "8e3b3faf-1830-481b-9843-07fa6a631639",
   "metadata": {},
   "source": [
    "Create a FunctionDeclaration that will help Gemini know about function to lookup a **CIK**."
   ]
  },
  {
   "cell_type": "code",
   "execution_count": 14,
   "id": "6ff7eb67-665f-419d-b7ad-6e89356da53d",
   "metadata": {
    "tags": []
   },
   "outputs": [],
   "source": [
    "lookup_cik_fd = FunctionDeclaration(\n",
    "    name=\"lookup_cik\",\n",
    "    description=\"Look up a company's CIK used for its SEC filings.\",\n",
    "    parameters={\n",
    "        \"type\": \"object\",\n",
    "        \"properties\": {\n",
    "            \"company_name\": {\n",
    "                \"type\": \"string\",\n",
    "                \"description\": \"The name of the company to look up.\"\n",
    "            },\n",
    "        },\n",
    "        \"required\": [\n",
    "            \"company_name\"\n",
    "        ]\n",
    "    },\n",
    ")"
   ]
  },
  {
   "cell_type": "markdown",
   "id": "1dfda29a-a70c-417e-a5e9-338f3312fd9d",
   "metadata": {},
   "source": [
    "**Note**: The **search_tool** loaded above cannot be combined with other Tools when passed to Gemini, so in order to create a Tool that combines it and other functions, you can create a dedicated model instance and invoke that via another function as you are doing here."
   ]
  },
  {
   "cell_type": "markdown",
   "id": "a76a235c-9fd1-43ea-a07d-685b37df15a3",
   "metadata": {},
   "source": [
    "# Empower Gemini to retrieve document sections from relevant years"
   ]
  },
  {
   "cell_type": "markdown",
   "id": "907dd1e6-bf0e-487a-adc8-ce68d902caff",
   "metadata": {},
   "source": [
    "In this section, you will equip Gemini to analyze specific sections of public company documents across different timeframes. You will define functions to retrieve relevant filings and extract information from desired sections within those documents for a more comprehensive analysis.\n",
    "\n",
    "In your notebook, paste and run the following `FunctionDeclaration` that you can use to let Gemini know about the function you used earlier to download SEC filings and review its parameters. In particular, pay attention to how the `items_of_interest` section allows Gemini to provide an array of strings, but consisting only of strings matching the enum values you provide (the names of the various sections in the reports)."
   ]
  },
  {
   "cell_type": "code",
   "execution_count": 15,
   "id": "e76a6125-0cd1-4d87-8b82-8e9b9cd1d197",
   "metadata": {
    "tags": []
   },
   "outputs": [],
   "source": [
    "retrieve_filings_fd = FunctionDeclaration(\n",
    "    name=\"retrieve_filings\",\n",
    "    description=\"Retrieve filings from the SEC EDGAR API for a company within a date range.\",\n",
    "    parameters={\n",
    "        \"type\": \"object\",\n",
    "        \"properties\": {\n",
    "            \"cik\": {\n",
    "                \"type\": \"string\",\n",
    "                \"description\": \"The CIK of a company whose documents will be retrieved\"\n",
    "            },\n",
    "            \"starting_year_and_quarter\": {\n",
    "                \"type\": \"string\",\n",
    "                \"description\": \"The first report quarter year and quarter in the format: 2024 Q1\"\n",
    "            },\n",
    "            \"ending_year_and_quarter\": {\n",
    "                \"type\": \"string\",\n",
    "                \"description\": \"The year and quarter in the format: 2024 Q1\"\n",
    "            },\n",
    "            \"include_quarterly_reports\": {\n",
    "                \"type\": \"boolean\",\n",
    "                \"description\": \"Whether to include 10-Q quarterly filings in addition to annual 10-K filings\"\n",
    "            },\n",
    "            \"items_of_interest\": {\n",
    "                \"description\": \"An array of one or more section (called items) of interest from 10-K or 10-Q filings\",\n",
    "                \"type\": \"array\",\n",
    "                \"items\": {\n",
    "                \"type\": \"string\",\n",
    "                \"enum\": [\n",
    "                    \"Business\",\n",
    "                    \"Risk Factors\",\n",
    "                    \"Unresolved Staff Comments\",\n",
    "                    \"Properties\",\n",
    "                    \"Legal Proceedings\",\n",
    "                    \"Mine Safety Disclosures\",\n",
    "                    \"Market for Registrant’s Common Equity, Related Stockholder Matters and Issuer Purchases of Equity Securities\",\n",
    "                    \"Management’s Discussion and Analysis of Financial Condition and Results of Operations\",\n",
    "                    \"Quantitative and Qualitative Disclosures About Market Risk\",\n",
    "                    \"Financial Statements and Supplementary Data\",\n",
    "                    \"Changes in and Disagreements with Accountants on Accounting and Financial Disclosure\",\n",
    "                    \"Controls and Procedures\",\n",
    "                    \"Other Information\",\n",
    "                    \"Disclosure Regarding Foreign Jurisdictions that Prevent Inspections\",\n",
    "                    \"Directors, Executive Officers and Corporate Governance\",\n",
    "                    \"Executive Compensation\",\n",
    "                    \"Security Ownership of Certain Beneficial Owners and Management and Related Stockholder Matters\",\n",
    "                    \"Certain Relationships and Related Transactions, and Director Independence\",\n",
    "                    \"Principal Accountant Fees and Services\",\n",
    "                    \"Exhibit and Financial Statement Schedules\",\n",
    "                    \"Form 10-K Summary\"\n",
    "                ]\n",
    "                }\n",
    "        }\n",
    "        },\n",
    "        \"required\": [\n",
    "            \"cik\",\n",
    "            \"starting_year_and_quarter\",\n",
    "            \"ending_year_and_quarter\",\n",
    "            \"items_of_interest\"\n",
    "        ]\n",
    "    },\n",
    ")    "
   ]
  },
  {
   "cell_type": "markdown",
   "id": "af971218-eeca-4f28-9e3e-f94c249faeee",
   "metadata": {},
   "source": [
    "Run the code snippet below to create a **Tool** that combines both of the `FunctionDeclarations` above."
   ]
  },
  {
   "cell_type": "code",
   "execution_count": 16,
   "id": "c3039853-0dfe-4bec-a4dd-106964c97172",
   "metadata": {
    "tags": []
   },
   "outputs": [],
   "source": [
    "sec_tool = Tool(function_declarations=[retrieve_filings_fd,\n",
    "                                    lookup_cik_fd])    "
   ]
  },
  {
   "cell_type": "markdown",
   "id": "59f9759f-ea00-4b2f-8749-9bda5898e0b2",
   "metadata": {},
   "source": [
    "Create a **system_instruction** and instantiate a new model that will follow the instructions to create analyses using the **SEC filings**. In your instructions, you will provide Gemini the current date so that it can calculate relevant dates for queries using relative terminology."
   ]
  },
  {
   "cell_type": "code",
   "execution_count": 17,
   "id": "593c33ec-d793-477a-b0ff-fdb14738a62d",
   "metadata": {
    "tags": []
   },
   "outputs": [],
   "source": [
    "response1 = client.models.generate_content(\n",
    "    model=\"gemini-2.0-flash\",\n",
    "    contents=\"Find the SEC CIK for Acme Corp. Return only the 10-digit CIK.\",\n",
    "    config=GenerateContentConfig(tools=[search_tool], response_modalities=[\"TEXT\"])\n",
    ")\n",
    "cik = \"\".join(p.text for p in response1.candidates[0].content.parts).strip()\n",
    "\n",
    "from vertexai.generative_models import GenerativeModel, GenerationConfig, Tool, FunctionDeclaration\n",
    "\n",
    "# Define your function declarations (lookup_cik_fd, retrieve_filings_fd)\n",
    "sec_tool = Tool(function_declarations=[lookup_cik_fd, retrieve_filings_fd])\n",
    "\n",
    "system_instruction = \"\"\"\n",
    "    - You are a research assistant to a financial analyst.\n",
    "    - Answer the user's question with an analysis, basing your response on information\n",
    "    used in filings from the SEC EDGAR database.\n",
    "    - Quote the SEC filing documents to support your analysis.\n",
    "    - If you are not certain about a CIK, use your tool to look it up.\n",
    "    - The current date is {current_date}.\n",
    "    \"\"\".format(\n",
    "        current_date=datetime.today().strftime(\"%Y-%m-%d\")\n",
    "    )\n",
    "\n",
    "model = GenerativeModel(\n",
    "    model_name=\"gemini-2.0-flash\",\n",
    "    generation_config=GenerationConfig(temperature=0),\n",
    "    system_instruction=system_instruction,\n",
    "    tools=[sec_tool]\n",
    ")\n",
    "\n",
    "response2 = model.generate_content(\n",
    "    contents=f\"Retrieve the 10-K for CIK {cik} covering 2023 Q4, and extract 'Risk Factors'.\"\n",
    ")"
   ]
  },
  {
   "cell_type": "markdown",
   "id": "0e5e9689-cd01-47f1-9c3c-c25d559681cc",
   "metadata": {},
   "source": [
    "When you ask Gemini a question related to a public company, it may return a response, or it may return a request for a function call. Starting with `Gemini 2.0`, it may ask for function calls in separate rounds of chat, or **multiple parallel function calls** in a single round of response. If multiple function calls are requested, your response **must include a function response for each function call** Gemini has requested (the Part.from_function_response section). To handle these cases, it is usually very helpful to define a handle_response function:"
   ]
  },
  {
   "cell_type": "code",
   "execution_count": 18,
   "id": "7fd427b5-3a2b-41ac-b5ca-5aeac62914a7",
   "metadata": {
    "tags": []
   },
   "outputs": [],
   "source": [
    "def handle_response(response):\n",
    "\n",
    "    parts_for_inner_response = []\n",
    "    for part in response.candidates[0].content.parts:\n",
    "        # If the content part has an attribute called 'text'\n",
    "        if hasattr(part, \"text\"):\n",
    "            print(\"\\n\" + part.text)\n",
    "        # If the content has an attribute called 'function_call'\n",
    "        if part.function_call:\n",
    "            function_call = part.function_call\n",
    "            try:\n",
    "                if function_call.name == \"lookup_cik\":\n",
    "                    cik = lookup_cik(function_call.args[\"company_name\"])\n",
    "                    parts_for_inner_response.append(\n",
    "                        Part.from_function_response(\n",
    "                            name=\"lookup_cik\",\n",
    "                            response={\n",
    "                                \"content\": cik,\n",
    "                            },\n",
    "                        )\n",
    "                    )\n",
    "                if function_call.name == \"retrieve_filings\":\n",
    "                    context = \"\"\n",
    "                    filing_paths = download_range_of_filings(function_call.args[\"cik\"],\n",
    "                                    function_call.args[\"starting_year_and_quarter\"],\n",
    "                                    function_call.args[\"ending_year_and_quarter\"],\n",
    "                                    function_call.args.get(\"include_10q\", False)\n",
    "                    )\n",
    "                    if filing_paths:\n",
    "                        # TODO: Load cleaned filing docs\n",
    "                        report = get_items_from_filings(function_call.args[\"items_of_interest\"], filing_paths)\n",
    "                        parts_for_inner_response.append(\n",
    "                            Part.from_function_response(\n",
    "                                name=\"retrieve_filings\",\n",
    "                                response={\n",
    "                                    \"content\": report,\n",
    "                                },\n",
    "                            )\n",
    "                        )\n",
    "                    else:\n",
    "                        print(\"No valid filings found or an error was encountered in retrieving them.\")\n",
    "            except AttributeError as e:\n",
    "                print(\"Exception:\")\n",
    "                print(response)\n",
    "                print(part)\n",
    "                print(e)\n",
    "    if parts_for_inner_response:\n",
    "        inner_response = chat.send_message(parts_for_inner_response)\n",
    "        handle_response(inner_response)   "
   ]
  },
  {
   "cell_type": "markdown",
   "id": "e0758e26-1a43-4316-b27d-cc2b81af3732",
   "metadata": {},
   "source": [
    "Start a chat session with the model."
   ]
  },
  {
   "cell_type": "code",
   "execution_count": 19,
   "id": "a61cd14f-08d2-4da0-b4f0-67295c5b0472",
   "metadata": {
    "tags": []
   },
   "outputs": [],
   "source": [
    "chat = model.start_chat()"
   ]
  },
  {
   "cell_type": "markdown",
   "id": "400dbcf0-4976-40ef-9d39-e6f3af5e3608",
   "metadata": {},
   "source": [
    "Run the following cell to ask a question that compares **a corresponding section across two companies reports**."
   ]
  },
  {
   "cell_type": "code",
   "execution_count": 20,
   "id": "5c99d40f-ddc3-4320-9756-daaabfd6f1ce",
   "metadata": {
    "tags": []
   },
   "outputs": [
    {
     "name": "stdout",
     "output_type": "stream",
     "text": [
      "Lookup for CIK of Alphabet resulted in: The Securities and Exchange Commission (SEC) Central Index Key (CIK) for Alphabet Inc. is 0001652044.\n",
      "\n"
     ]
    },
    {
     "data": {
      "text/html": [
       "<style>\n",
       ".container {\n",
       "  align-items: center;\n",
       "  border-radius: 8px;\n",
       "  display: flex;\n",
       "  font-family: Google Sans, Roboto, sans-serif;\n",
       "  font-size: 14px;\n",
       "  line-height: 20px;\n",
       "  padding: 8px 12px;\n",
       "}\n",
       ".chip {\n",
       "  display: inline-block;\n",
       "  border: solid 1px;\n",
       "  border-radius: 16px;\n",
       "  min-width: 14px;\n",
       "  padding: 5px 16px;\n",
       "  text-align: center;\n",
       "  user-select: none;\n",
       "  margin: 0 8px;\n",
       "  -webkit-tap-highlight-color: transparent;\n",
       "}\n",
       ".carousel {\n",
       "  overflow: auto;\n",
       "  scrollbar-width: none;\n",
       "  white-space: nowrap;\n",
       "  margin-right: -12px;\n",
       "}\n",
       ".headline {\n",
       "  display: flex;\n",
       "  margin-right: 4px;\n",
       "}\n",
       ".gradient-container {\n",
       "  position: relative;\n",
       "}\n",
       ".gradient {\n",
       "  position: absolute;\n",
       "  transform: translate(3px, -9px);\n",
       "  height: 36px;\n",
       "  width: 9px;\n",
       "}\n",
       "@media (prefers-color-scheme: light) {\n",
       "  .container {\n",
       "    background-color: #fafafa;\n",
       "    box-shadow: 0 0 0 1px #0000000f;\n",
       "  }\n",
       "  .headline-label {\n",
       "    color: #1f1f1f;\n",
       "  }\n",
       "  .chip {\n",
       "    background-color: #ffffff;\n",
       "    border-color: #d2d2d2;\n",
       "    color: #5e5e5e;\n",
       "    text-decoration: none;\n",
       "  }\n",
       "  .chip:hover {\n",
       "    background-color: #f2f2f2;\n",
       "  }\n",
       "  .chip:focus {\n",
       "    background-color: #f2f2f2;\n",
       "  }\n",
       "  .chip:active {\n",
       "    background-color: #d8d8d8;\n",
       "    border-color: #b6b6b6;\n",
       "  }\n",
       "  .logo-dark {\n",
       "    display: none;\n",
       "  }\n",
       "  .gradient {\n",
       "    background: linear-gradient(90deg, #fafafa 15%, #fafafa00 100%);\n",
       "  }\n",
       "}\n",
       "@media (prefers-color-scheme: dark) {\n",
       "  .container {\n",
       "    background-color: #1f1f1f;\n",
       "    box-shadow: 0 0 0 1px #ffffff26;\n",
       "  }\n",
       "  .headline-label {\n",
       "    color: #fff;\n",
       "  }\n",
       "  .chip {\n",
       "    background-color: #2c2c2c;\n",
       "    border-color: #3c4043;\n",
       "    color: #fff;\n",
       "    text-decoration: none;\n",
       "  }\n",
       "  .chip:hover {\n",
       "    background-color: #353536;\n",
       "  }\n",
       "  .chip:focus {\n",
       "    background-color: #353536;\n",
       "  }\n",
       "  .chip:active {\n",
       "    background-color: #464849;\n",
       "    border-color: #53575b;\n",
       "  }\n",
       "  .logo-light {\n",
       "    display: none;\n",
       "  }\n",
       "  .gradient {\n",
       "    background: linear-gradient(90deg, #1f1f1f 15%, #1f1f1f00 100%);\n",
       "  }\n",
       "}\n",
       "</style>\n",
       "<div class=\"container\">\n",
       "  <div class=\"headline\">\n",
       "    <svg class=\"logo-light\" width=\"18\" height=\"18\" viewBox=\"9 9 35 35\" fill=\"none\" xmlns=\"http://www.w3.org/2000/svg\">\n",
       "      <path fill-rule=\"evenodd\" clip-rule=\"evenodd\" d=\"M42.8622 27.0064C42.8622 25.7839 42.7525 24.6084 42.5487 23.4799H26.3109V30.1568H35.5897C35.1821 32.3041 33.9596 34.1222 32.1258 35.3448V39.6864H37.7213C40.9814 36.677 42.8622 32.2571 42.8622 27.0064V27.0064Z\" fill=\"#4285F4\"/>\n",
       "      <path fill-rule=\"evenodd\" clip-rule=\"evenodd\" d=\"M26.3109 43.8555C30.9659 43.8555 34.8687 42.3195 37.7213 39.6863L32.1258 35.3447C30.5898 36.3792 28.6306 37.0061 26.3109 37.0061C21.8282 37.0061 18.0195 33.9811 16.6559 29.906H10.9194V34.3573C13.7563 39.9841 19.5712 43.8555 26.3109 43.8555V43.8555Z\" fill=\"#34A853\"/>\n",
       "      <path fill-rule=\"evenodd\" clip-rule=\"evenodd\" d=\"M16.6559 29.8904C16.3111 28.8559 16.1074 27.7588 16.1074 26.6146C16.1074 25.4704 16.3111 24.3733 16.6559 23.3388V18.8875H10.9194C9.74388 21.2072 9.06992 23.8247 9.06992 26.6146C9.06992 29.4045 9.74388 32.022 10.9194 34.3417L15.3864 30.8621L16.6559 29.8904V29.8904Z\" fill=\"#FBBC05\"/>\n",
       "      <path fill-rule=\"evenodd\" clip-rule=\"evenodd\" d=\"M26.3109 16.2386C28.85 16.2386 31.107 17.1164 32.9095 18.8091L37.8466 13.8719C34.853 11.082 30.9659 9.3736 26.3109 9.3736C19.5712 9.3736 13.7563 13.245 10.9194 18.8875L16.6559 23.3388C18.0195 19.2636 21.8282 16.2386 26.3109 16.2386V16.2386Z\" fill=\"#EA4335\"/>\n",
       "    </svg>\n",
       "    <svg class=\"logo-dark\" width=\"18\" height=\"18\" viewBox=\"0 0 48 48\" xmlns=\"http://www.w3.org/2000/svg\">\n",
       "      <circle cx=\"24\" cy=\"23\" fill=\"#FFF\" r=\"22\"/>\n",
       "      <path d=\"M33.76 34.26c2.75-2.56 4.49-6.37 4.49-11.26 0-.89-.08-1.84-.29-3H24.01v5.99h8.03c-.4 2.02-1.5 3.56-3.07 4.56v.75l3.91 2.97h.88z\" fill=\"#4285F4\"/>\n",
       "      <path d=\"M15.58 25.77A8.845 8.845 0 0 0 24 31.86c1.92 0 3.62-.46 4.97-1.31l4.79 3.71C31.14 36.7 27.65 38 24 38c-5.93 0-11.01-3.4-13.45-8.36l.17-1.01 4.06-2.85h.8z\" fill=\"#34A853\"/>\n",
       "      <path d=\"M15.59 20.21a8.864 8.864 0 0 0 0 5.58l-5.03 3.86c-.98-2-1.53-4.25-1.53-6.64 0-2.39.55-4.64 1.53-6.64l1-.22 3.81 2.98.22 1.08z\" fill=\"#FBBC05\"/>\n",
       "      <path d=\"M24 14.14c2.11 0 4.02.75 5.52 1.98l4.36-4.36C31.22 9.43 27.81 8 24 8c-5.93 0-11.01 3.4-13.45 8.36l5.03 3.85A8.86 8.86 0 0 1 24 14.14z\" fill=\"#EA4335\"/>\n",
       "    </svg>\n",
       "    <div class=\"gradient-container\"><div class=\"gradient\"></div></div>\n",
       "  </div>\n",
       "  <div class=\"carousel\">\n",
       "    <a class=\"chip\" href=\"https://vertexaisearch.cloud.google.com/grounding-api-redirect/AbF9wXGrTqX_9rardMmyMOAFbCS-C4A-4N7GUpaOZCUfZdzCTDuNIlCphkrHkEXWm_GGRFVLG5rUqypwAriO3sMES4JkOUo8AoH7a6tQKAaAjc13dSfj4mZfMpJVWsAaDJmO-B4vE3vs5t7I3vvrjvVJbJWdl3VhnRbdeI5TFAQRr7vh5D74AeVFwwYtD2zVF-k9fg_k6eaIJp2aAImxw8W3R6MZmjk=\">Alphabet Inc. Central Index Key</a>\n",
       "    <a class=\"chip\" href=\"https://vertexaisearch.cloud.google.com/grounding-api-redirect/AbF9wXHzOG0nYv8fSDKm7JGnQuy0PEPy87xgWJ0nDkGhZgKqgrgBk12Cv_jbB0a9hMvsA5ReUQd-VLxJ41aYwmYvMmnLzn7aVCdUMjcQZlsFqS7YY2LyKk_9RHWlBS_bexBm4ZZGpVd11Yz2o_3UZ0t3iDiBW41vwvv2r6AfOrnDxnM5gHQdeTZYcHYQfKdEi-h4K6Bt1Ik=\">Alphabet SEC CIK</a>\n",
       "  </div>\n",
       "</div>\n"
      ],
      "text/plain": [
       "<IPython.core.display.HTML object>"
      ]
     },
     "metadata": {},
     "output_type": "display_data"
    },
    {
     "name": "stdout",
     "output_type": "stream",
     "text": [
      "Lookup for CIK of Amazon resulted in: The Securities and Exchange Commission's (SEC) Central Index Key (CIK) for Amazon is 0001018724.\n",
      "\n"
     ]
    },
    {
     "data": {
      "text/html": [
       "<style>\n",
       ".container {\n",
       "  align-items: center;\n",
       "  border-radius: 8px;\n",
       "  display: flex;\n",
       "  font-family: Google Sans, Roboto, sans-serif;\n",
       "  font-size: 14px;\n",
       "  line-height: 20px;\n",
       "  padding: 8px 12px;\n",
       "}\n",
       ".chip {\n",
       "  display: inline-block;\n",
       "  border: solid 1px;\n",
       "  border-radius: 16px;\n",
       "  min-width: 14px;\n",
       "  padding: 5px 16px;\n",
       "  text-align: center;\n",
       "  user-select: none;\n",
       "  margin: 0 8px;\n",
       "  -webkit-tap-highlight-color: transparent;\n",
       "}\n",
       ".carousel {\n",
       "  overflow: auto;\n",
       "  scrollbar-width: none;\n",
       "  white-space: nowrap;\n",
       "  margin-right: -12px;\n",
       "}\n",
       ".headline {\n",
       "  display: flex;\n",
       "  margin-right: 4px;\n",
       "}\n",
       ".gradient-container {\n",
       "  position: relative;\n",
       "}\n",
       ".gradient {\n",
       "  position: absolute;\n",
       "  transform: translate(3px, -9px);\n",
       "  height: 36px;\n",
       "  width: 9px;\n",
       "}\n",
       "@media (prefers-color-scheme: light) {\n",
       "  .container {\n",
       "    background-color: #fafafa;\n",
       "    box-shadow: 0 0 0 1px #0000000f;\n",
       "  }\n",
       "  .headline-label {\n",
       "    color: #1f1f1f;\n",
       "  }\n",
       "  .chip {\n",
       "    background-color: #ffffff;\n",
       "    border-color: #d2d2d2;\n",
       "    color: #5e5e5e;\n",
       "    text-decoration: none;\n",
       "  }\n",
       "  .chip:hover {\n",
       "    background-color: #f2f2f2;\n",
       "  }\n",
       "  .chip:focus {\n",
       "    background-color: #f2f2f2;\n",
       "  }\n",
       "  .chip:active {\n",
       "    background-color: #d8d8d8;\n",
       "    border-color: #b6b6b6;\n",
       "  }\n",
       "  .logo-dark {\n",
       "    display: none;\n",
       "  }\n",
       "  .gradient {\n",
       "    background: linear-gradient(90deg, #fafafa 15%, #fafafa00 100%);\n",
       "  }\n",
       "}\n",
       "@media (prefers-color-scheme: dark) {\n",
       "  .container {\n",
       "    background-color: #1f1f1f;\n",
       "    box-shadow: 0 0 0 1px #ffffff26;\n",
       "  }\n",
       "  .headline-label {\n",
       "    color: #fff;\n",
       "  }\n",
       "  .chip {\n",
       "    background-color: #2c2c2c;\n",
       "    border-color: #3c4043;\n",
       "    color: #fff;\n",
       "    text-decoration: none;\n",
       "  }\n",
       "  .chip:hover {\n",
       "    background-color: #353536;\n",
       "  }\n",
       "  .chip:focus {\n",
       "    background-color: #353536;\n",
       "  }\n",
       "  .chip:active {\n",
       "    background-color: #464849;\n",
       "    border-color: #53575b;\n",
       "  }\n",
       "  .logo-light {\n",
       "    display: none;\n",
       "  }\n",
       "  .gradient {\n",
       "    background: linear-gradient(90deg, #1f1f1f 15%, #1f1f1f00 100%);\n",
       "  }\n",
       "}\n",
       "</style>\n",
       "<div class=\"container\">\n",
       "  <div class=\"headline\">\n",
       "    <svg class=\"logo-light\" width=\"18\" height=\"18\" viewBox=\"9 9 35 35\" fill=\"none\" xmlns=\"http://www.w3.org/2000/svg\">\n",
       "      <path fill-rule=\"evenodd\" clip-rule=\"evenodd\" d=\"M42.8622 27.0064C42.8622 25.7839 42.7525 24.6084 42.5487 23.4799H26.3109V30.1568H35.5897C35.1821 32.3041 33.9596 34.1222 32.1258 35.3448V39.6864H37.7213C40.9814 36.677 42.8622 32.2571 42.8622 27.0064V27.0064Z\" fill=\"#4285F4\"/>\n",
       "      <path fill-rule=\"evenodd\" clip-rule=\"evenodd\" d=\"M26.3109 43.8555C30.9659 43.8555 34.8687 42.3195 37.7213 39.6863L32.1258 35.3447C30.5898 36.3792 28.6306 37.0061 26.3109 37.0061C21.8282 37.0061 18.0195 33.9811 16.6559 29.906H10.9194V34.3573C13.7563 39.9841 19.5712 43.8555 26.3109 43.8555V43.8555Z\" fill=\"#34A853\"/>\n",
       "      <path fill-rule=\"evenodd\" clip-rule=\"evenodd\" d=\"M16.6559 29.8904C16.3111 28.8559 16.1074 27.7588 16.1074 26.6146C16.1074 25.4704 16.3111 24.3733 16.6559 23.3388V18.8875H10.9194C9.74388 21.2072 9.06992 23.8247 9.06992 26.6146C9.06992 29.4045 9.74388 32.022 10.9194 34.3417L15.3864 30.8621L16.6559 29.8904V29.8904Z\" fill=\"#FBBC05\"/>\n",
       "      <path fill-rule=\"evenodd\" clip-rule=\"evenodd\" d=\"M26.3109 16.2386C28.85 16.2386 31.107 17.1164 32.9095 18.8091L37.8466 13.8719C34.853 11.082 30.9659 9.3736 26.3109 9.3736C19.5712 9.3736 13.7563 13.245 10.9194 18.8875L16.6559 23.3388C18.0195 19.2636 21.8282 16.2386 26.3109 16.2386V16.2386Z\" fill=\"#EA4335\"/>\n",
       "    </svg>\n",
       "    <svg class=\"logo-dark\" width=\"18\" height=\"18\" viewBox=\"0 0 48 48\" xmlns=\"http://www.w3.org/2000/svg\">\n",
       "      <circle cx=\"24\" cy=\"23\" fill=\"#FFF\" r=\"22\"/>\n",
       "      <path d=\"M33.76 34.26c2.75-2.56 4.49-6.37 4.49-11.26 0-.89-.08-1.84-.29-3H24.01v5.99h8.03c-.4 2.02-1.5 3.56-3.07 4.56v.75l3.91 2.97h.88z\" fill=\"#4285F4\"/>\n",
       "      <path d=\"M15.58 25.77A8.845 8.845 0 0 0 24 31.86c1.92 0 3.62-.46 4.97-1.31l4.79 3.71C31.14 36.7 27.65 38 24 38c-5.93 0-11.01-3.4-13.45-8.36l.17-1.01 4.06-2.85h.8z\" fill=\"#34A853\"/>\n",
       "      <path d=\"M15.59 20.21a8.864 8.864 0 0 0 0 5.58l-5.03 3.86c-.98-2-1.53-4.25-1.53-6.64 0-2.39.55-4.64 1.53-6.64l1-.22 3.81 2.98.22 1.08z\" fill=\"#FBBC05\"/>\n",
       "      <path d=\"M24 14.14c2.11 0 4.02.75 5.52 1.98l4.36-4.36C31.22 9.43 27.81 8 24 8c-5.93 0-11.01 3.4-13.45 8.36l5.03 3.85A8.86 8.86 0 0 1 24 14.14z\" fill=\"#EA4335\"/>\n",
       "    </svg>\n",
       "    <div class=\"gradient-container\"><div class=\"gradient\"></div></div>\n",
       "  </div>\n",
       "  <div class=\"carousel\">\n",
       "    <a class=\"chip\" href=\"https://vertexaisearch.cloud.google.com/grounding-api-redirect/AbF9wXHMsCtWIcsrIE1uBi6IgcH3CYIn3mlUrxY8xQJP-DCRfKWqBiAz60deAiDuWxWRAxY2Oz4Ix39sqVsGLoKqDj9XrqbsfeXFM1aROLRWkjsqeKwI5TFxLeEPVNbfxsX7QcaY1MlqejQ1Yv3R_lNxHi_F14RNFN_Pg-twTJFDnyB1VBu6ThApO4T66HuiRrzSxEdy97q3ogbU1Rbn2sCFYSh0td7YJ8ig2Q==\">What is Amazon&#39;s SEC CIK number?</a>\n",
       "    <a class=\"chip\" href=\"https://vertexaisearch.cloud.google.com/grounding-api-redirect/AbF9wXFxiGXJb5dZd6havz9shvx0AqxGUz9y_Y1lYawe0U5Dww_ikiM-fwRIiC6uueVXKS4VC4WhC2ijFoT06h7Aik2F3gcargbnQ0I1YjZM9kl49aqJYiFUbKJxB_gvgJrv7OCHyAnD9jb2ZCxjmPXdNYpEufqjsuOcCAxVWB2_e6x-sc3OmA95m5FsPDfzpVE=\">Amazon CIK</a>\n",
       "  </div>\n",
       "</div>\n"
      ],
      "text/plain": [
       "<IPython.core.display.HTML object>"
      ]
     },
     "metadata": {},
     "output_type": "display_data"
    },
    {
     "name": "stdout",
     "output_type": "stream",
     "text": [
      "Downloaded 10-K for CIK 0001652044 on 2024-01-31 to filings/0001652044/10-K_2024-01-31.htm\n",
      "Items of interest: Risk Factors\n",
      "\n",
      "Downloaded 10-K for CIK 0001018724 on 2024-02-02 to filings/0001018724/10-K_2024-02-02.htm\n",
      "Items of interest: Risk Factors\n",
      "\n",
      "\n",
      "Based on the 2024 SEC filings, here's a comparison of the risk factors for Alphabet and Amazon:\n",
      "\n",
      "**Alphabet's Key Risks:**\n",
      "\n",
      "*   **Competition:** Alphabet faces intense competition across various industries, including online advertising and AI. They must continue to innovate to remain competitive.\n",
      "    > *\"We face intense competition. If we do not continue to innovate and provide products and services that are useful to users, customers, and other partners, we may not remain competitive, which could harm our business, financial condition, and operating results.\"*\n",
      "*   **Advertising Revenue Dependence:** A significant portion of Alphabet's revenue comes from advertising, making them vulnerable to reduced spending by advertisers or technologies that block ads.\n",
      "    > *\"We generate a significant portion of our revenues from advertising. Reduced spending by advertisers, a loss of partners, or new and existing technologies that block ads online and/or affect our ability to customize ads could harm our business.\"*\n",
      "*   **AI Investment and Ethical Concerns:** Alphabet is investing heavily in AI, which is highly competitive and rapidly evolving. They face ethical, technological, and regulatory challenges related to AI development and use.\n",
      "    > *\"We are expanding our investment in AI across the entire company. This includes generative AI and continuing to integrate AI capabilities into our products and services... New and evolving products and services, including those that use AI, raise ethical, technological, legal, regulatory, and other challenges, which may negatively affect our brands and demand for our products and services.\"*\n",
      "*   **Data Privacy and Security:** Concerns about data privacy and security could harm Alphabet's reputation and deter users from using their services.\n",
      "    > *\"Data privacy and security concerns relating to our technology and our practices could harm our reputation, cause us to incur significant liability, and deter current and potential users or customers from using our products and services.\"*\n",
      "*   **Regulatory Landscape:** Alphabet is subject to a variety of new, existing, and changing laws and regulations worldwide, particularly in data privacy, competition, and AI, which could harm their business.\n",
      "    > *\"We are subject to a variety of new, existing, and changing laws and regulations worldwide that could harm our business, and will likely be subject to an even broader scope of laws and regulations as we continue to expand our business.\"*\n",
      "\n",
      "**Amazon's Key Risks:**\n",
      "\n",
      "*   **Competition:** Amazon faces intense competition across various industries and geographies, including physical, e-commerce, and cloud services.\n",
      "    > *\"Our businesses are rapidly evolving and intensely competitive, and we have many competitors across geographies, including cross-border competition, and in different industries, including physical, e-commerce, and omnichannel retail, e-commerce services, web and infrastructure computing services, electronic devices, digital content, advertising, grocery, and transportation and logistics services.\"*\n",
      "*   **International Operations:** Amazon's international operations expose them to risks such as local economic and political conditions, government regulations, and foreign currency exchange rate fluctuations.\n",
      "    > *\"Our international activities are significant to our revenues and profits, and we plan to further expand internationally. In certain international market segments, we have relatively little operating experience and may not benefit from any first-to-market advantages or otherwise succeed... Our international sales and operations are subject to a number of risks...\"*\n",
      "*   **Variability in Retail Business:** Demand for Amazon's products and services can fluctuate significantly, impacting their operations and requiring them to manage inventory and staffing effectively.\n",
      "    > *\"Demand for our products and services can fluctuate significantly for many reasons, including as a result of seasonality, promotions, product launches, or unforeseeable events, such as in response to global economic conditions such as recessionary fears or rising inflation, natural or human-caused disasters (including public health crises) or extreme weather (including as a result of climate change), or geopolitical events.\"*\n",
      "*   **Fraudulent Activities of Sellers:** Amazon faces risks related to fraudulent or unlawful activities of sellers on its platform, which can harm their business and reputation.\n",
      "    > *\"Under our seller programs, we maintain policies and processes designed to prevent sellers from collecting payments, fraudulently or otherwise, when buyers never receive the products they ordered or when the products received are materially different from the sellers’ descriptions, and to prevent sellers in our stores or through other stores from selling unlawful, counterfeit, pirated, or stolen goods... When these policies and processes are circumvented or fail to operate sufficiently, it can harm our business or damage our reputation and we could face civil or criminal liability for unlawful activities by our sellers.\"*\n",
      "*   **Data Loss and Security Breaches:** Amazon's collection, processing, and storage of large amounts of data make them vulnerable to data loss and security breaches, which could have significant consequences.\n",
      "    > *\"Because we collect, process, store, and transmit large amounts of data, including confidential, classified, sensitive, proprietary, and business and personal information, failure to prevent or mitigate data loss, theft, misuse, unauthorized access, or other security breaches or vulnerabilities affecting our or our vendors’ or customers’ technology, products, and systems, could... adversely affect our operating results; result in litigation, liability, or regulatory action... deter customers or sellers from using our stores, products, and services; and otherwise harm our business and reputation.\"*\n",
      "*   **Government Regulation:** Amazon is subject to evolving government regulations, particularly concerning the internet, e-commerce, and AI, which could harm their business.\n",
      "    > *\"We are subject to general business regulations and laws, as well as regulations and laws specifically governing the internet, physical, e-commerce, and omnichannel retail, digital content, web services, electronic devices, advertising, artificial intelligence technologies and services, and other products and services that we offer or sell... Unfavorable regulations, laws, decisions, or interpretations by government or regulatory authorities applying those laws and regulations, or inquiries, investigations, or enforcement actions threatened or initiated by them, could cause us to incur substantial costs, expose us to unanticipated civil and criminal liability or penalties (including substantial monetary fines), diminish the demand for, or availability of, our products and services, increase our cost of doing business, require us to change our business practices in a manner materially adverse to our business, damage our reputation, impede our growth, or otherwise have a material effect on our operations.\"*\n",
      "\n",
      "**In Summary:**\n",
      "\n",
      "Both companies share common risks related to competition, data security, and evolving regulations. However, Alphabet's risks are more focused on advertising revenue and the ethical considerations surrounding AI, while Amazon's risks are heavily influenced by their vast retail operations, international exposure, and the challenges of managing a large third-party seller ecosystem.\n",
      "\n"
     ]
    }
   ],
   "source": [
    "response = chat.send_message(\"How do Alphabet's risks in 2024 compare to Amazon's?\")\n",
    "handle_response(response)"
   ]
  },
  {
   "cell_type": "markdown",
   "id": "823d01de-4a85-46d8-8a77-f57c3be84788",
   "metadata": {},
   "source": [
    "ou can also compare sections across time. Run the following code snippet to see an example of Gemini **comparing one section across multiple 'versions' (or filing years) of a document**."
   ]
  },
  {
   "cell_type": "code",
   "execution_count": 21,
   "id": "b263baf9-244f-4d09-aa63-cb96e5a504ef",
   "metadata": {
    "tags": []
   },
   "outputs": [
    {
     "name": "stdout",
     "output_type": "stream",
     "text": [
      "Lookup for CIK of Home Depot resulted in: The Securities and Exchange Commission's (SEC) Central Index Key (CIK) for Home Depot is 0000354950.\n",
      "\n"
     ]
    },
    {
     "data": {
      "text/html": [
       "<style>\n",
       ".container {\n",
       "  align-items: center;\n",
       "  border-radius: 8px;\n",
       "  display: flex;\n",
       "  font-family: Google Sans, Roboto, sans-serif;\n",
       "  font-size: 14px;\n",
       "  line-height: 20px;\n",
       "  padding: 8px 12px;\n",
       "}\n",
       ".chip {\n",
       "  display: inline-block;\n",
       "  border: solid 1px;\n",
       "  border-radius: 16px;\n",
       "  min-width: 14px;\n",
       "  padding: 5px 16px;\n",
       "  text-align: center;\n",
       "  user-select: none;\n",
       "  margin: 0 8px;\n",
       "  -webkit-tap-highlight-color: transparent;\n",
       "}\n",
       ".carousel {\n",
       "  overflow: auto;\n",
       "  scrollbar-width: none;\n",
       "  white-space: nowrap;\n",
       "  margin-right: -12px;\n",
       "}\n",
       ".headline {\n",
       "  display: flex;\n",
       "  margin-right: 4px;\n",
       "}\n",
       ".gradient-container {\n",
       "  position: relative;\n",
       "}\n",
       ".gradient {\n",
       "  position: absolute;\n",
       "  transform: translate(3px, -9px);\n",
       "  height: 36px;\n",
       "  width: 9px;\n",
       "}\n",
       "@media (prefers-color-scheme: light) {\n",
       "  .container {\n",
       "    background-color: #fafafa;\n",
       "    box-shadow: 0 0 0 1px #0000000f;\n",
       "  }\n",
       "  .headline-label {\n",
       "    color: #1f1f1f;\n",
       "  }\n",
       "  .chip {\n",
       "    background-color: #ffffff;\n",
       "    border-color: #d2d2d2;\n",
       "    color: #5e5e5e;\n",
       "    text-decoration: none;\n",
       "  }\n",
       "  .chip:hover {\n",
       "    background-color: #f2f2f2;\n",
       "  }\n",
       "  .chip:focus {\n",
       "    background-color: #f2f2f2;\n",
       "  }\n",
       "  .chip:active {\n",
       "    background-color: #d8d8d8;\n",
       "    border-color: #b6b6b6;\n",
       "  }\n",
       "  .logo-dark {\n",
       "    display: none;\n",
       "  }\n",
       "  .gradient {\n",
       "    background: linear-gradient(90deg, #fafafa 15%, #fafafa00 100%);\n",
       "  }\n",
       "}\n",
       "@media (prefers-color-scheme: dark) {\n",
       "  .container {\n",
       "    background-color: #1f1f1f;\n",
       "    box-shadow: 0 0 0 1px #ffffff26;\n",
       "  }\n",
       "  .headline-label {\n",
       "    color: #fff;\n",
       "  }\n",
       "  .chip {\n",
       "    background-color: #2c2c2c;\n",
       "    border-color: #3c4043;\n",
       "    color: #fff;\n",
       "    text-decoration: none;\n",
       "  }\n",
       "  .chip:hover {\n",
       "    background-color: #353536;\n",
       "  }\n",
       "  .chip:focus {\n",
       "    background-color: #353536;\n",
       "  }\n",
       "  .chip:active {\n",
       "    background-color: #464849;\n",
       "    border-color: #53575b;\n",
       "  }\n",
       "  .logo-light {\n",
       "    display: none;\n",
       "  }\n",
       "  .gradient {\n",
       "    background: linear-gradient(90deg, #1f1f1f 15%, #1f1f1f00 100%);\n",
       "  }\n",
       "}\n",
       "</style>\n",
       "<div class=\"container\">\n",
       "  <div class=\"headline\">\n",
       "    <svg class=\"logo-light\" width=\"18\" height=\"18\" viewBox=\"9 9 35 35\" fill=\"none\" xmlns=\"http://www.w3.org/2000/svg\">\n",
       "      <path fill-rule=\"evenodd\" clip-rule=\"evenodd\" d=\"M42.8622 27.0064C42.8622 25.7839 42.7525 24.6084 42.5487 23.4799H26.3109V30.1568H35.5897C35.1821 32.3041 33.9596 34.1222 32.1258 35.3448V39.6864H37.7213C40.9814 36.677 42.8622 32.2571 42.8622 27.0064V27.0064Z\" fill=\"#4285F4\"/>\n",
       "      <path fill-rule=\"evenodd\" clip-rule=\"evenodd\" d=\"M26.3109 43.8555C30.9659 43.8555 34.8687 42.3195 37.7213 39.6863L32.1258 35.3447C30.5898 36.3792 28.6306 37.0061 26.3109 37.0061C21.8282 37.0061 18.0195 33.9811 16.6559 29.906H10.9194V34.3573C13.7563 39.9841 19.5712 43.8555 26.3109 43.8555V43.8555Z\" fill=\"#34A853\"/>\n",
       "      <path fill-rule=\"evenodd\" clip-rule=\"evenodd\" d=\"M16.6559 29.8904C16.3111 28.8559 16.1074 27.7588 16.1074 26.6146C16.1074 25.4704 16.3111 24.3733 16.6559 23.3388V18.8875H10.9194C9.74388 21.2072 9.06992 23.8247 9.06992 26.6146C9.06992 29.4045 9.74388 32.022 10.9194 34.3417L15.3864 30.8621L16.6559 29.8904V29.8904Z\" fill=\"#FBBC05\"/>\n",
       "      <path fill-rule=\"evenodd\" clip-rule=\"evenodd\" d=\"M26.3109 16.2386C28.85 16.2386 31.107 17.1164 32.9095 18.8091L37.8466 13.8719C34.853 11.082 30.9659 9.3736 26.3109 9.3736C19.5712 9.3736 13.7563 13.245 10.9194 18.8875L16.6559 23.3388C18.0195 19.2636 21.8282 16.2386 26.3109 16.2386V16.2386Z\" fill=\"#EA4335\"/>\n",
       "    </svg>\n",
       "    <svg class=\"logo-dark\" width=\"18\" height=\"18\" viewBox=\"0 0 48 48\" xmlns=\"http://www.w3.org/2000/svg\">\n",
       "      <circle cx=\"24\" cy=\"23\" fill=\"#FFF\" r=\"22\"/>\n",
       "      <path d=\"M33.76 34.26c2.75-2.56 4.49-6.37 4.49-11.26 0-.89-.08-1.84-.29-3H24.01v5.99h8.03c-.4 2.02-1.5 3.56-3.07 4.56v.75l3.91 2.97h.88z\" fill=\"#4285F4\"/>\n",
       "      <path d=\"M15.58 25.77A8.845 8.845 0 0 0 24 31.86c1.92 0 3.62-.46 4.97-1.31l4.79 3.71C31.14 36.7 27.65 38 24 38c-5.93 0-11.01-3.4-13.45-8.36l.17-1.01 4.06-2.85h.8z\" fill=\"#34A853\"/>\n",
       "      <path d=\"M15.59 20.21a8.864 8.864 0 0 0 0 5.58l-5.03 3.86c-.98-2-1.53-4.25-1.53-6.64 0-2.39.55-4.64 1.53-6.64l1-.22 3.81 2.98.22 1.08z\" fill=\"#FBBC05\"/>\n",
       "      <path d=\"M24 14.14c2.11 0 4.02.75 5.52 1.98l4.36-4.36C31.22 9.43 27.81 8 24 8c-5.93 0-11.01 3.4-13.45 8.36l5.03 3.85A8.86 8.86 0 0 1 24 14.14z\" fill=\"#EA4335\"/>\n",
       "    </svg>\n",
       "    <div class=\"gradient-container\"><div class=\"gradient\"></div></div>\n",
       "  </div>\n",
       "  <div class=\"carousel\">\n",
       "    <a class=\"chip\" href=\"https://vertexaisearch.cloud.google.com/grounding-api-redirect/AbF9wXFWthCuRlb1pgvt3vuiICHyzR0q763mvFYPXrmG-knw5qRNCjRu-QKX89GpF7A2n2jOg53m49ewt3UPQDeZLdSKG1FfTWwyR85k69WqW5VILif7UUQR2FtsFfq4tDDXT8pIxFP93M-SOtbNmV3IZGGcesg7RVZ3FcjHfNBptxvxexafNSCHQMt3y9s6Qy-llrWwuPDdxTCmTbdKuw==\">Home Depot SEC CIK number</a>\n",
       "  </div>\n",
       "</div>\n"
      ],
      "text/plain": [
       "<IPython.core.display.HTML object>"
      ]
     },
     "metadata": {},
     "output_type": "display_data"
    },
    {
     "name": "stdout",
     "output_type": "stream",
     "text": [
      "Downloaded 10-K for CIK 0000354950 on 2025-03-21 to filings/0000354950/10-K_2025-03-21.htm\n",
      "Downloaded 10-K for CIK 0000354950 on 2024-03-13 to filings/0000354950/10-K_2024-03-13.htm\n",
      "Downloaded 10-K for CIK 0000354950 on 2023-03-15 to filings/0000354950/10-K_2023-03-15.htm\n",
      "Downloaded 10-K for CIK 0000354950 on 2022-03-23 to filings/0000354950/10-K_2022-03-23.htm\n",
      "Items of interest: Business\n",
      "\n",
      "\n",
      "Over the past three years, Home Depot has consistently emphasized its interconnected shopping experience and strategic investments in supply chain and technology to enhance customer experience. Here's a breakdown of the key changes:\n",
      "\n",
      "*   **Focus on Interconnected Experience:** All filings from 2022 to 2025 emphasize the interconnected shopping experience, highlighting the integration of digital and physical channels. For instance, the 2025 10-K states, \"We continued our strategic investments aimed at creating an interconnected, frictionless shopping experience that enables our customers to seamlessly blend the digital and physical worlds.\" This theme is consistent across the 2024 and 2023 filings as well.\n",
      "*   **Emphasis on Pro Customers:** There's an increasing emphasis on serving professional customers (\"Pros\"). The 2025 filing mentions the acquisition of SRS, a distributor serving professional roofers, landscapers, and pool contractors, indicating a strategic move to expand services for Pros. The 2024 filing also highlights initiatives designed to drive growth with Pros, such as providing a customized online experience and a dedicated sales force.\n",
      "*   **Supply Chain Investments:** All filings highlight ongoing investments in the supply chain to improve delivery speed and reliability. The 2025 filing notes, \"We continue to focus on building best-in-class competitive advantages in our supply chain to be responsive to our customers’ expectations for how, when and where they choose to receive our products and services.\" Similar statements appear in the 2024 and 2023 filings.\n",
      "*   **Sustainability and Human Capital Management:** There's a consistent focus on sustainability and human capital management, organized around three pillars: Focus on Our People, Operate Sustainably, and Strengthen Our Communities. The 2025 filing states, \"We view sustainability and human capital management matters through the lens of our business, with an understanding that if we support our associates, our customers, our suppliers, and the communities we serve, we also support our business and create value for our shareholders.\"\n",
      "*   **Expansion and New Stores:** In the 2023 and 2024 filings, Home Depot mentions plans to open new stores. Specifically, the 2024 filing says, \"In fiscal 2023, we initiated a plan to open approximately 80 new stores over a five-year period to address those opportunities.\"\n",
      "\n",
      "In summary, Home Depot's business description has evolved to highlight its focus on an interconnected shopping experience, strategic investments in its supply chain, serving professional customers, and commitment to sustainability and human capital management. The company also emphasizes its plans for expansion with new store openings.\n",
      "\n"
     ]
    }
   ],
   "source": [
    "chat = model.start_chat()\n",
    "response = chat.send_message(\"How has Home Depot changed the way it describes its business over the past 3 years?\")\n",
    "handle_response(response)"
   ]
  },
  {
   "cell_type": "code",
   "execution_count": null,
   "id": "0a09b48c-c3d8-4716-8a61-d158de691c18",
   "metadata": {},
   "outputs": [],
   "source": []
  }
 ],
 "metadata": {
  "environment": {
   "kernel": "conda-base-py",
   "name": "workbench-notebooks.m129",
   "type": "gcloud",
   "uri": "us-docker.pkg.dev/deeplearning-platform-release/gcr.io/workbench-notebooks:m129"
  },
  "kernelspec": {
   "display_name": "Python 3 (ipykernel) (Local)",
   "language": "python",
   "name": "conda-base-py"
  },
  "language_info": {
   "codemirror_mode": {
    "name": "ipython",
    "version": 3
   },
   "file_extension": ".py",
   "mimetype": "text/x-python",
   "name": "python",
   "nbconvert_exporter": "python",
   "pygments_lexer": "ipython3",
   "version": "3.10.16"
  }
 },
 "nbformat": 4,
 "nbformat_minor": 5
}
